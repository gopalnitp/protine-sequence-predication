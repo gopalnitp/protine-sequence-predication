{
 "cells": [
  {
   "cell_type": "code",
   "execution_count": 2,
   "metadata": {},
   "outputs": [],
   "source": [
    "import os\n",
    "import pandas as pd"
   ]
  },
  {
   "cell_type": "code",
   "execution_count": 3,
   "metadata": {},
   "outputs": [
    {
     "data": {
      "text/plain": [
       "u'/home/gopal/Desktop/Compelet_project/protine_sequence'"
      ]
     },
     "execution_count": 3,
     "metadata": {},
     "output_type": "execute_result"
    }
   ],
   "source": [
    "pwd"
   ]
  },
  {
   "cell_type": "code",
   "execution_count": 28,
   "metadata": {},
   "outputs": [],
   "source": [
    "path='/home/Desktop/data1/'#path where data is stored"
   ]
  },
  {
   "cell_type": "code",
   "execution_count": 29,
   "metadata": {},
   "outputs": [],
   "source": [
    "freqfile=os.listdir(path) #read directory"
   ]
  },
  {
   "cell_type": "code",
   "execution_count": 30,
   "metadata": {},
   "outputs": [
    {
     "name": "stdout",
     "output_type": "stream",
     "text": [
      "fof\n",
      "gof\n"
     ]
    }
   ],
   "source": [
    "for i in freqfile:\n",
    "    print i #see name of directory"
   ]
  },
  {
   "cell_type": "markdown",
   "metadata": {},
   "source": [
    "# read data and store in dic "
   ]
  },
  {
   "cell_type": "code",
   "execution_count": 3,
   "metadata": {},
   "outputs": [
    {
     "ename": "SyntaxError",
     "evalue": "EOF while scanning triple-quoted string literal (<ipython-input-3-ab63d3a2d59c>, line 11)",
     "output_type": "error",
     "traceback": [
      "\u001b[0;36m  File \u001b[0;32m\"<ipython-input-3-ab63d3a2d59c>\"\u001b[0;36m, line \u001b[0;32m11\u001b[0m\n\u001b[0;31m    \"\"\"\"\"\"\u001b[0m\n\u001b[0m          \n^\u001b[0m\n\u001b[0;31mSyntaxError\u001b[0m\u001b[0;31m:\u001b[0m EOF while scanning triple-quoted string literal\n"
     ]
    }
   ],
   "source": [
    "l=[] \n",
    "# l is list used to append all file\n",
    "sample_class=0 # sample belong to which class up 1 to 10\n",
    "               #for class1=1................class10=10\n",
    "for i in freqfile:\n",
    "    sample_class=sample_class+1\n",
    "    path1=path + '/'+i+'/'+'frequency.csv'\n",
    "    datafr=pd.read_csv(path1,header=None)\n",
    "    datafr[\"colm\"]=sample_class\n",
    "    l.append(datafr)\n",
    "    "
   ]
  },
  {
   "cell_type": "markdown",
   "metadata": {},
   "source": [
    "# concat the data"
   ]
  },
  {
   "cell_type": "code",
   "execution_count": 32,
   "metadata": {},
   "outputs": [],
   "source": [
    "datafram=pd.concat(l) #concate the data (mearge the file)"
   ]
  },
  {
   "cell_type": "markdown",
   "metadata": {},
   "source": [
    "# make dic and key,value pair(key=entry and value =file belong to which class)"
   ]
  },
  {
   "cell_type": "code",
   "execution_count": 33,
   "metadata": {},
   "outputs": [],
   "source": [
    "dic=[] #it is used append the all entry and crosponding class\n",
    "for i in range(len(l)):\n",
    "    name_dic={}\n",
    "    k=l[i] \n",
    "    for ix in range(len(k)):\n",
    "        name_dic[k[1][ix]]=k[\"colm\"][ix]\n",
    "    dic.append(name_dic)"
   ]
  },
  {
   "cell_type": "markdown",
   "metadata": {},
   "source": [
    "# store the key and its multiple value"
   ]
  },
  {
   "cell_type": "raw",
   "metadata": {},
   "source": [
    " like if 1 taken value (a,b), 2 taken value (a,c,d) ,3 tken value (a,b,c,d) and 4 take value(e)\n",
    "   #-------------------------\n",
    "  key,value\n",
    "   1:[a,b]\n",
    "   2:[a,b,c]\n",
    "   3:[a,b,c,d]\n",
    "   4:[e]"
   ]
  },
  {
   "cell_type": "code",
   "execution_count": 34,
   "metadata": {},
   "outputs": [],
   "source": [
    "from collections import defaultdict\n",
    "d_store_key_value = defaultdict(list) #store key with multi values\n",
    "for ix in range(len(dic)):\n",
    "    for key, value in dic[ix].items():\n",
    "        d_store_key_value[key].append(value)\n"
   ]
  },
  {
   "cell_type": "markdown",
   "metadata": {},
   "source": [
    "# drop duplicate"
   ]
  },
  {
   "cell_type": "code",
   "execution_count": 35,
   "metadata": {},
   "outputs": [],
   "source": [
    "data_after_drop=datafram.drop_duplicates(subset=[1],keep=\"first\").reset_index(drop=True)#drop duplicates "
   ]
  },
  {
   "cell_type": "code",
   "execution_count": 43,
   "metadata": {},
   "outputs": [],
   "source": [
    "new_data=data_after_drop[1] \n",
    "new_data=list(new_data)\n",
    "data_project=pd.DataFrame(new_data,columns=['entry'])#make new data frame\n",
    "#data_project datafram is used to read each file entry name when we assign the value which column is present in our d_store_key_value"
   ]
  },
  {
   "cell_type": "code",
   "execution_count": 37,
   "metadata": {},
   "outputs": [],
   "source": [
    "Geotrem=[] ## make list of list to store colum value\n",
    "for ix in range(len(dic)):\n",
    "    ff=[0 for i in range(data_project.shape[0])] \n",
    "    Geotrem.append(ff)\n",
    "\n",
    "#-----------------#-----------------------------------#-------------#------------------\n",
    "\n",
    "for key,values in d_store_key_value.items():\n",
    "     for ix in values:\n",
    "            D=data_project.entry[data_project.entry==key].index.tolist() ##find key index\n",
    "            l=D[0] ## store it value\n",
    "            for i in range(1,len(dic)+1):\n",
    "                if ix==i:\n",
    "                    jk=i-1\n",
    "                    Geotrem[i-1][l]=1\n",
    "            "
   ]
  },
  {
   "cell_type": "code",
   "execution_count": 38,
   "metadata": {},
   "outputs": [],
   "source": [
    "for ix in range(len(dic)): ##attach the column in the datafram\n",
    "    col=\"newcol\"+str(ix)\n",
    "    data_after_drop[col]=Geotrem[ix]\n",
    "    "
   ]
  },
  {
   "cell_type": "code",
   "execution_count": 41,
   "metadata": {},
   "outputs": [],
   "source": [
    "fgh=data_after_drop[\"newcol0\"]==data_after_drop[\"newcol1\"]\n",
    "count=0\n",
    "for ix in fgh:\n",
    "    if ix==True:\n",
    "        count=count+1\n",
    "    "
   ]
  },
  {
   "cell_type": "markdown",
   "metadata": {},
   "source": [
    "# all the best"
   ]
  },
  {
   "cell_type": "code",
   "execution_count": null,
   "metadata": {},
   "outputs": [],
   "source": []
  }
 ],
 "metadata": {
  "kernelspec": {
   "display_name": "Python 3",
   "language": "python",
   "name": "python3"
  },
  "language_info": {
   "codemirror_mode": {
    "name": "ipython",
    "version": 2
   },
   "file_extension": ".py",
   "mimetype": "text/x-python",
   "name": "python",
   "nbconvert_exporter": "python",
   "pygments_lexer": "ipython2",
   "version": "2.7.15rc1"
  }
 },
 "nbformat": 4,
 "nbformat_minor": 2
}
